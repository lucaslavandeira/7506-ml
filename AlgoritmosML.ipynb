{
 "cells": [
  {
   "cell_type": "code",
   "execution_count": 171,
   "metadata": {
    "collapsed": true
   },
   "outputs": [],
   "source": [
    "import pandas as pd\n",
    "import numpy as np\n",
    "\n",
    "from sklearn.model_selection import GridSearchCV\n",
    "from sklearn.metrics import mean_squared_error\n",
    "from sklearn.tree import DecisionTreeRegressor\n",
    "from sklearn.ensemble import RandomForestRegressor\n",
    "from sklearn.neighbors import KNeighborsRegressor"
   ]
  },
  {
   "cell_type": "code",
   "execution_count": 172,
   "metadata": {
    "collapsed": true
   },
   "outputs": [],
   "source": [
    "df = pd.read_csv('Desktop/Homework/dataset.csv', index_col=0)\n",
    "df_test = pd.read_csv('Desktop/Homework/dataset_pruebas.csv',index_col=0)\n",
    "properati = pd.read_csv('Desktop/Homework/properati.csv')"
   ]
  },
  {
   "cell_type": "code",
   "execution_count": 173,
   "metadata": {
    "collapsed": true
   },
   "outputs": [],
   "source": [
    "prices = df['price_aprox_usd']\n",
    "del df['price_aprox_usd']"
   ]
  },
  {
   "cell_type": "code",
   "execution_count": 174,
   "metadata": {
    "collapsed": true
   },
   "outputs": [],
   "source": [
    "properati.index = properati['id']\n",
    "del properati['id']"
   ]
  },
  {
   "cell_type": "markdown",
   "metadata": {},
   "source": [
    "# DecisionTree"
   ]
  },
  {
   "cell_type": "code",
   "execution_count": 175,
   "metadata": {},
   "outputs": [
    {
     "data": {
      "text/plain": [
       "{'criterion': 'mse',\n",
       " 'max_depth': None,\n",
       " 'max_features': None,\n",
       " 'max_leaf_nodes': None,\n",
       " 'min_impurity_decrease': 0.0,\n",
       " 'min_impurity_split': None,\n",
       " 'min_samples_leaf': 1,\n",
       " 'min_samples_split': 2,\n",
       " 'min_weight_fraction_leaf': 0.0,\n",
       " 'presort': False,\n",
       " 'random_state': 103040,\n",
       " 'splitter': 'best'}"
      ]
     },
     "execution_count": 175,
     "metadata": {},
     "output_type": "execute_result"
    }
   ],
   "source": [
    "decisiontree = DecisionTreeRegressor(random_state=103040)\n",
    "decisiontree.get_params()"
   ]
  },
  {
   "cell_type": "code",
   "execution_count": 176,
   "metadata": {},
   "outputs": [
    {
     "name": "stdout",
     "output_type": "stream",
     "text": [
      "({'max_features': 26}, 0.97702496903934588)\n"
     ]
    }
   ],
   "source": [
    "param_grid= {'max_features': range(1, len(df.columns))}\n",
    "grid_drop = GridSearchCV(decisiontree, param_grid, cv=10)\n",
    "grid_drop.fit(df, prices)\n",
    "print(grid_drop.best_params_, grid_drop.best_score_)"
   ]
  },
  {
   "cell_type": "code",
   "execution_count": 177,
   "metadata": {},
   "outputs": [
    {
     "data": {
      "text/plain": [
       "(8599, 38)"
      ]
     },
     "execution_count": 177,
     "metadata": {},
     "output_type": "execute_result"
    }
   ],
   "source": [
    "df_test.sample(frac=0.064).shape"
   ]
  },
  {
   "cell_type": "code",
   "execution_count": 178,
   "metadata": {},
   "outputs": [
    {
     "data": {
      "text/plain": [
       "130690807664.12949"
      ]
     },
     "execution_count": 178,
     "metadata": {},
     "output_type": "execute_result"
    }
   ],
   "source": [
    "errors = []\n",
    "\n",
    "for i in range(0, 50):\n",
    "    test = df_test.sample(frac=0.064)\n",
    "    prices_test = test['price_aprox_usd']\n",
    "    del test['price_aprox_usd']\n",
    "    \n",
    "    prediccion = grid_drop.best_estimator_.predict(test)\n",
    "    errors.append(mean_squared_error(prices_test, prediccion))\n",
    "    \n",
    "reduce(lambda x,y: x+y, errors)/len(errors)"
   ]
  },
  {
   "cell_type": "code",
   "execution_count": 179,
   "metadata": {},
   "outputs": [],
   "source": [
    "prediccion_properati = grid_drop.best_estimator_.predict(properati)"
   ]
  },
  {
   "cell_type": "code",
   "execution_count": 180,
   "metadata": {
    "collapsed": true
   },
   "outputs": [],
   "source": [
    "predicciones = pd.DataFrame({'price_usd':prediccion_properati})\n",
    "predicciones.index = properati.index"
   ]
  },
  {
   "cell_type": "code",
   "execution_count": 181,
   "metadata": {},
   "outputs": [
    {
     "data": {
      "text/html": [
       "<div>\n",
       "<style>\n",
       "    .dataframe thead tr:only-child th {\n",
       "        text-align: right;\n",
       "    }\n",
       "\n",
       "    .dataframe thead th {\n",
       "        text-align: left;\n",
       "    }\n",
       "\n",
       "    .dataframe tbody tr th {\n",
       "        vertical-align: top;\n",
       "    }\n",
       "</style>\n",
       "<table border=\"1\" class=\"dataframe\">\n",
       "  <thead>\n",
       "    <tr style=\"text-align: right;\">\n",
       "      <th></th>\n",
       "      <th>price_usd</th>\n",
       "    </tr>\n",
       "    <tr>\n",
       "      <th>id</th>\n",
       "      <th></th>\n",
       "    </tr>\n",
       "  </thead>\n",
       "  <tbody>\n",
       "    <tr>\n",
       "      <th>3632</th>\n",
       "      <td>90500.000000</td>\n",
       "    </tr>\n",
       "    <tr>\n",
       "      <th>3633</th>\n",
       "      <td>158000.000000</td>\n",
       "    </tr>\n",
       "    <tr>\n",
       "      <th>2263404</th>\n",
       "      <td>300000.000000</td>\n",
       "    </tr>\n",
       "    <tr>\n",
       "      <th>2263405</th>\n",
       "      <td>100000.000000</td>\n",
       "    </tr>\n",
       "    <tr>\n",
       "      <th>2263406</th>\n",
       "      <td>175000.000000</td>\n",
       "    </tr>\n",
       "    <tr>\n",
       "      <th>2263407</th>\n",
       "      <td>100000.000000</td>\n",
       "    </tr>\n",
       "    <tr>\n",
       "      <th>2263408</th>\n",
       "      <td>100000.000000</td>\n",
       "    </tr>\n",
       "    <tr>\n",
       "      <th>2263409</th>\n",
       "      <td>100000.000000</td>\n",
       "    </tr>\n",
       "    <tr>\n",
       "      <th>2263410</th>\n",
       "      <td>134625.000000</td>\n",
       "    </tr>\n",
       "    <tr>\n",
       "      <th>2263411</th>\n",
       "      <td>106000.000000</td>\n",
       "    </tr>\n",
       "    <tr>\n",
       "      <th>2263412</th>\n",
       "      <td>106000.000000</td>\n",
       "    </tr>\n",
       "    <tr>\n",
       "      <th>2263413</th>\n",
       "      <td>106000.000000</td>\n",
       "    </tr>\n",
       "    <tr>\n",
       "      <th>2263415</th>\n",
       "      <td>301176.470588</td>\n",
       "    </tr>\n",
       "    <tr>\n",
       "      <th>2263416</th>\n",
       "      <td>759772.727273</td>\n",
       "    </tr>\n",
       "    <tr>\n",
       "      <th>2263417</th>\n",
       "      <td>123345.875000</td>\n",
       "    </tr>\n",
       "    <tr>\n",
       "      <th>2263418</th>\n",
       "      <td>123345.875000</td>\n",
       "    </tr>\n",
       "  </tbody>\n",
       "</table>\n",
       "</div>"
      ],
      "text/plain": [
       "             price_usd\n",
       "id                    \n",
       "3632      90500.000000\n",
       "3633     158000.000000\n",
       "2263404  300000.000000\n",
       "2263405  100000.000000\n",
       "2263406  175000.000000\n",
       "2263407  100000.000000\n",
       "2263408  100000.000000\n",
       "2263409  100000.000000\n",
       "2263410  134625.000000\n",
       "2263411  106000.000000\n",
       "2263412  106000.000000\n",
       "2263413  106000.000000\n",
       "2263415  301176.470588\n",
       "2263416  759772.727273\n",
       "2263417  123345.875000\n",
       "2263418  123345.875000"
      ]
     },
     "execution_count": 181,
     "metadata": {},
     "output_type": "execute_result"
    }
   ],
   "source": [
    "predicciones.head(16)"
   ]
  },
  {
   "cell_type": "markdown",
   "metadata": {},
   "source": [
    "# RandomForest"
   ]
  },
  {
   "cell_type": "code",
   "execution_count": 182,
   "metadata": {},
   "outputs": [
    {
     "data": {
      "text/plain": [
       "{'bootstrap': True,\n",
       " 'criterion': 'mse',\n",
       " 'max_depth': None,\n",
       " 'max_features': 'auto',\n",
       " 'max_leaf_nodes': None,\n",
       " 'min_impurity_decrease': 0.0,\n",
       " 'min_impurity_split': None,\n",
       " 'min_samples_leaf': 1,\n",
       " 'min_samples_split': 2,\n",
       " 'min_weight_fraction_leaf': 0.0,\n",
       " 'n_estimators': 10,\n",
       " 'n_jobs': 1,\n",
       " 'oob_score': False,\n",
       " 'random_state': 103040,\n",
       " 'verbose': 0,\n",
       " 'warm_start': False}"
      ]
     },
     "execution_count": 182,
     "metadata": {},
     "output_type": "execute_result"
    }
   ],
   "source": [
    "random_forest = RandomForestRegressor(random_state=103040)\n",
    "random_forest.get_params()"
   ]
  },
  {
   "cell_type": "code",
   "execution_count": 183,
   "metadata": {},
   "outputs": [
    {
     "name": "stdout",
     "output_type": "stream",
     "text": [
      "({'max_features': 17}, 0.98336074753778879)\n"
     ]
    }
   ],
   "source": [
    "param_grid= {'max_features': range(1, len(df.columns))}\n",
    "grid_drop = GridSearchCV(random_forest, param_grid, cv=10)\n",
    "grid_drop.fit(df, prices)\n",
    "print(grid_drop.best_params_, grid_drop.best_score_)"
   ]
  },
  {
   "cell_type": "code",
   "execution_count": 184,
   "metadata": {},
   "outputs": [
    {
     "data": {
      "text/plain": [
       "146894971339.64786"
      ]
     },
     "execution_count": 184,
     "metadata": {},
     "output_type": "execute_result"
    }
   ],
   "source": [
    "errors = []\n",
    "\n",
    "for i in range(0, 50):\n",
    "    test = df_test.sample(frac=0.064)\n",
    "    prices_test = test['price_aprox_usd']\n",
    "    del test['price_aprox_usd']\n",
    "    \n",
    "    prediccion = grid_drop.best_estimator_.predict(test)\n",
    "    errors.append(mean_squared_error(prices_test, prediccion))\n",
    "    \n",
    "reduce(lambda x,y: x+y, errors)/len(errors)"
   ]
  },
  {
   "cell_type": "code",
   "execution_count": 185,
   "metadata": {
    "collapsed": true
   },
   "outputs": [],
   "source": [
    "prediccion_properati = grid_drop.best_estimator_.predict(properati)"
   ]
  },
  {
   "cell_type": "code",
   "execution_count": 186,
   "metadata": {
    "collapsed": true
   },
   "outputs": [],
   "source": [
    "predicciones = pd.DataFrame({'price_usd':prediccion_properati})\n",
    "predicciones.index = properati.index"
   ]
  },
  {
   "cell_type": "code",
   "execution_count": 187,
   "metadata": {
    "scrolled": false
   },
   "outputs": [
    {
     "data": {
      "text/html": [
       "<div>\n",
       "<style>\n",
       "    .dataframe thead tr:only-child th {\n",
       "        text-align: right;\n",
       "    }\n",
       "\n",
       "    .dataframe thead th {\n",
       "        text-align: left;\n",
       "    }\n",
       "\n",
       "    .dataframe tbody tr th {\n",
       "        vertical-align: top;\n",
       "    }\n",
       "</style>\n",
       "<table border=\"1\" class=\"dataframe\">\n",
       "  <thead>\n",
       "    <tr style=\"text-align: right;\">\n",
       "      <th></th>\n",
       "      <th>price_usd</th>\n",
       "    </tr>\n",
       "    <tr>\n",
       "      <th>id</th>\n",
       "      <th></th>\n",
       "    </tr>\n",
       "  </thead>\n",
       "  <tbody>\n",
       "    <tr>\n",
       "      <th>3632</th>\n",
       "      <td>268350.000000</td>\n",
       "    </tr>\n",
       "    <tr>\n",
       "      <th>3633</th>\n",
       "      <td>116669.433333</td>\n",
       "    </tr>\n",
       "    <tr>\n",
       "      <th>2263404</th>\n",
       "      <td>194746.666667</td>\n",
       "    </tr>\n",
       "    <tr>\n",
       "      <th>2263405</th>\n",
       "      <td>98089.166667</td>\n",
       "    </tr>\n",
       "    <tr>\n",
       "      <th>2263406</th>\n",
       "      <td>149185.500000</td>\n",
       "    </tr>\n",
       "    <tr>\n",
       "      <th>2263407</th>\n",
       "      <td>98089.166667</td>\n",
       "    </tr>\n",
       "    <tr>\n",
       "      <th>2263408</th>\n",
       "      <td>98089.166667</td>\n",
       "    </tr>\n",
       "    <tr>\n",
       "      <th>2263409</th>\n",
       "      <td>98089.166667</td>\n",
       "    </tr>\n",
       "    <tr>\n",
       "      <th>2263410</th>\n",
       "      <td>161931.445455</td>\n",
       "    </tr>\n",
       "    <tr>\n",
       "      <th>2263411</th>\n",
       "      <td>122476.029412</td>\n",
       "    </tr>\n",
       "    <tr>\n",
       "      <th>2263412</th>\n",
       "      <td>122476.029412</td>\n",
       "    </tr>\n",
       "    <tr>\n",
       "      <th>2263413</th>\n",
       "      <td>122476.029412</td>\n",
       "    </tr>\n",
       "    <tr>\n",
       "      <th>2263415</th>\n",
       "      <td>342608.058065</td>\n",
       "    </tr>\n",
       "    <tr>\n",
       "      <th>2263416</th>\n",
       "      <td>744222.539997</td>\n",
       "    </tr>\n",
       "    <tr>\n",
       "      <th>2263417</th>\n",
       "      <td>105349.700000</td>\n",
       "    </tr>\n",
       "    <tr>\n",
       "      <th>2263418</th>\n",
       "      <td>105349.700000</td>\n",
       "    </tr>\n",
       "  </tbody>\n",
       "</table>\n",
       "</div>"
      ],
      "text/plain": [
       "             price_usd\n",
       "id                    \n",
       "3632     268350.000000\n",
       "3633     116669.433333\n",
       "2263404  194746.666667\n",
       "2263405   98089.166667\n",
       "2263406  149185.500000\n",
       "2263407   98089.166667\n",
       "2263408   98089.166667\n",
       "2263409   98089.166667\n",
       "2263410  161931.445455\n",
       "2263411  122476.029412\n",
       "2263412  122476.029412\n",
       "2263413  122476.029412\n",
       "2263415  342608.058065\n",
       "2263416  744222.539997\n",
       "2263417  105349.700000\n",
       "2263418  105349.700000"
      ]
     },
     "execution_count": 187,
     "metadata": {},
     "output_type": "execute_result"
    }
   ],
   "source": [
    "predicciones.head(16)"
   ]
  },
  {
   "cell_type": "code",
   "execution_count": 125,
   "metadata": {
    "collapsed": true
   },
   "outputs": [],
   "source": [
    "predicciones.to_csv('Desktop/Homework/prediction.csv')"
   ]
  },
  {
   "cell_type": "markdown",
   "metadata": {},
   "source": [
    "# KNN"
   ]
  },
  {
   "cell_type": "code",
   "execution_count": 52,
   "metadata": {},
   "outputs": [
    {
     "data": {
      "text/plain": [
       "{'algorithm': 'auto',\n",
       " 'leaf_size': 30,\n",
       " 'metric': 'minkowski',\n",
       " 'metric_params': None,\n",
       " 'n_jobs': 1,\n",
       " 'n_neighbors': 5,\n",
       " 'p': 2,\n",
       " 'weights': 'uniform'}"
      ]
     },
     "execution_count": 52,
     "metadata": {},
     "output_type": "execute_result"
    }
   ],
   "source": [
    "knn = KNeighborsRegressor()\n",
    "knn.get_params()"
   ]
  },
  {
   "cell_type": "code",
   "execution_count": 54,
   "metadata": {},
   "outputs": [
    {
     "name": "stdout",
     "output_type": "stream",
     "text": [
      "({'n_neighbors': 1}, 0.95146238760966373)\n"
     ]
    }
   ],
   "source": [
    "param_grid= {'n_neighbors': range(1, 150, 5)}\n",
    "grid_drop = GridSearchCV(knn, param_grid, cv=10)\n",
    "grid_drop.fit(df, prices)\n",
    "print(grid_drop.best_params_, grid_drop.best_score_)"
   ]
  },
  {
   "cell_type": "code",
   "execution_count": 55,
   "metadata": {},
   "outputs": [
    {
     "data": {
      "text/plain": [
       "161655837082.77393"
      ]
     },
     "execution_count": 55,
     "metadata": {},
     "output_type": "execute_result"
    }
   ],
   "source": [
    "errors = []\n",
    "\n",
    "for i in range(0, 50):\n",
    "    test = df_test.sample(frac=0.064)\n",
    "    prices_test = test['price_aprox_usd']\n",
    "    del test['price_aprox_usd']\n",
    "    \n",
    "    prediccion = grid_drop.best_estimator_.predict(test)\n",
    "    errors.append(mean_squared_error(prices_test, prediccion))\n",
    "    \n",
    "reduce(lambda x,y: x+y, errors)/len(errors)"
   ]
  },
  {
   "cell_type": "code",
   "execution_count": 56,
   "metadata": {
    "collapsed": true
   },
   "outputs": [],
   "source": [
    "prediccion_properati = grid_drop.best_estimator_.predict(properati)"
   ]
  },
  {
   "cell_type": "code",
   "execution_count": 57,
   "metadata": {
    "collapsed": true
   },
   "outputs": [],
   "source": [
    "predicciones = pd.DataFrame({'price_usd':prediccion_properati})\n",
    "predicciones.index = properati.index"
   ]
  },
  {
   "cell_type": "code",
   "execution_count": 58,
   "metadata": {},
   "outputs": [
    {
     "data": {
      "text/html": [
       "<div>\n",
       "<style>\n",
       "    .dataframe thead tr:only-child th {\n",
       "        text-align: right;\n",
       "    }\n",
       "\n",
       "    .dataframe thead th {\n",
       "        text-align: left;\n",
       "    }\n",
       "\n",
       "    .dataframe tbody tr th {\n",
       "        vertical-align: top;\n",
       "    }\n",
       "</style>\n",
       "<table border=\"1\" class=\"dataframe\">\n",
       "  <thead>\n",
       "    <tr style=\"text-align: right;\">\n",
       "      <th></th>\n",
       "      <th>price_usd</th>\n",
       "    </tr>\n",
       "    <tr>\n",
       "      <th>id</th>\n",
       "      <th></th>\n",
       "    </tr>\n",
       "  </thead>\n",
       "  <tbody>\n",
       "    <tr>\n",
       "      <th>3632</th>\n",
       "      <td>169000.0</td>\n",
       "    </tr>\n",
       "    <tr>\n",
       "      <th>3633</th>\n",
       "      <td>90000.0</td>\n",
       "    </tr>\n",
       "    <tr>\n",
       "      <th>2263404</th>\n",
       "      <td>149000.0</td>\n",
       "    </tr>\n",
       "    <tr>\n",
       "      <th>2263405</th>\n",
       "      <td>120000.0</td>\n",
       "    </tr>\n",
       "    <tr>\n",
       "      <th>2263406</th>\n",
       "      <td>140000.0</td>\n",
       "    </tr>\n",
       "    <tr>\n",
       "      <th>2263407</th>\n",
       "      <td>120000.0</td>\n",
       "    </tr>\n",
       "    <tr>\n",
       "      <th>2263408</th>\n",
       "      <td>120000.0</td>\n",
       "    </tr>\n",
       "    <tr>\n",
       "      <th>2263409</th>\n",
       "      <td>120000.0</td>\n",
       "    </tr>\n",
       "    <tr>\n",
       "      <th>2263410</th>\n",
       "      <td>250000.0</td>\n",
       "    </tr>\n",
       "    <tr>\n",
       "      <th>2263411</th>\n",
       "      <td>95000.0</td>\n",
       "    </tr>\n",
       "    <tr>\n",
       "      <th>2263412</th>\n",
       "      <td>95000.0</td>\n",
       "    </tr>\n",
       "    <tr>\n",
       "      <th>2263413</th>\n",
       "      <td>95000.0</td>\n",
       "    </tr>\n",
       "    <tr>\n",
       "      <th>2263415</th>\n",
       "      <td>288000.0</td>\n",
       "    </tr>\n",
       "    <tr>\n",
       "      <th>2263416</th>\n",
       "      <td>735000.0</td>\n",
       "    </tr>\n",
       "    <tr>\n",
       "      <th>2263417</th>\n",
       "      <td>140997.0</td>\n",
       "    </tr>\n",
       "    <tr>\n",
       "      <th>2263418</th>\n",
       "      <td>140997.0</td>\n",
       "    </tr>\n",
       "  </tbody>\n",
       "</table>\n",
       "</div>"
      ],
      "text/plain": [
       "         price_usd\n",
       "id                \n",
       "3632      169000.0\n",
       "3633       90000.0\n",
       "2263404   149000.0\n",
       "2263405   120000.0\n",
       "2263406   140000.0\n",
       "2263407   120000.0\n",
       "2263408   120000.0\n",
       "2263409   120000.0\n",
       "2263410   250000.0\n",
       "2263411    95000.0\n",
       "2263412    95000.0\n",
       "2263413    95000.0\n",
       "2263415   288000.0\n",
       "2263416   735000.0\n",
       "2263417   140997.0\n",
       "2263418   140997.0"
      ]
     },
     "execution_count": 58,
     "metadata": {},
     "output_type": "execute_result"
    }
   ],
   "source": [
    "predicciones.head(16)"
   ]
  },
  {
   "cell_type": "code",
   "execution_count": null,
   "metadata": {
    "collapsed": true
   },
   "outputs": [],
   "source": []
  }
 ],
 "metadata": {
  "kernelspec": {
   "display_name": "Python 2",
   "language": "python",
   "name": "python2"
  },
  "language_info": {
   "codemirror_mode": {
    "name": "ipython",
    "version": 2
   },
   "file_extension": ".py",
   "mimetype": "text/x-python",
   "name": "python",
   "nbconvert_exporter": "python",
   "pygments_lexer": "ipython2",
   "version": "2.7.13"
  }
 },
 "nbformat": 4,
 "nbformat_minor": 2
}
