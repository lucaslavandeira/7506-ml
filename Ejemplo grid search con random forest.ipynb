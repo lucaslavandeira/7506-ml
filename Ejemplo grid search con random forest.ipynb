{
 "cells": [
  {
   "cell_type": "markdown",
   "metadata": {},
   "source": [
    "## Previo\n",
    "- Agarrar los datos del tp anterior\n",
    "- Bajarse el dataset de testing de Kaggle (no usado actualmente)"
   ]
  },
  {
   "cell_type": "code",
   "execution_count": 21,
   "metadata": {},
   "outputs": [],
   "source": [
    "from __future__ import division\n",
    "import pandas as pd\n",
    "from sklearn.ensemble import RandomForestRegressor\n",
    "from sklearn.model_selection import train_test_split\n",
    "from sklearn.model_selection import GridSearchCV\n",
    "from sklearn.metrics import mean_squared_error"
   ]
  },
  {
   "cell_type": "markdown",
   "metadata": {},
   "source": [
    "## Inicializo el DF"
   ]
  },
  {
   "cell_type": "code",
   "execution_count": 2,
   "metadata": {},
   "outputs": [
    {
     "data": {
      "text/html": [
       "<div>\n",
       "<style>\n",
       "    .dataframe thead tr:only-child th {\n",
       "        text-align: right;\n",
       "    }\n",
       "\n",
       "    .dataframe thead th {\n",
       "        text-align: left;\n",
       "    }\n",
       "\n",
       "    .dataframe tbody tr th {\n",
       "        vertical-align: top;\n",
       "    }\n",
       "</style>\n",
       "<table border=\"1\" class=\"dataframe\">\n",
       "  <thead>\n",
       "    <tr style=\"text-align: right;\">\n",
       "      <th></th>\n",
       "      <th>floor</th>\n",
       "      <th>geonames_id</th>\n",
       "      <th>lat</th>\n",
       "      <th>lon</th>\n",
       "      <th>price</th>\n",
       "      <th>price_aprox_local_currency</th>\n",
       "      <th>price_aprox_usd</th>\n",
       "      <th>price_per_m2</th>\n",
       "      <th>rooms</th>\n",
       "      <th>surface_covered_in_m2</th>\n",
       "      <th>surface_in_m2</th>\n",
       "      <th>surface_total_in_m2</th>\n",
       "    </tr>\n",
       "  </thead>\n",
       "  <tbody>\n",
       "    <tr>\n",
       "      <th>635885</th>\n",
       "      <td>NaN</td>\n",
       "      <td>NaN</td>\n",
       "      <td>NaN</td>\n",
       "      <td>NaN</td>\n",
       "      <td>108000.0</td>\n",
       "      <td>1724598.00</td>\n",
       "      <td>108000.00</td>\n",
       "      <td>2250.000000</td>\n",
       "      <td>2.0</td>\n",
       "      <td>48.0</td>\n",
       "      <td>NaN</td>\n",
       "      <td>NaN</td>\n",
       "    </tr>\n",
       "    <tr>\n",
       "      <th>1403749</th>\n",
       "      <td>NaN</td>\n",
       "      <td>3435359.0</td>\n",
       "      <td>-34.565321</td>\n",
       "      <td>-58.471603</td>\n",
       "      <td>74000.0</td>\n",
       "      <td>717851.80</td>\n",
       "      <td>74000.00</td>\n",
       "      <td>2242.424242</td>\n",
       "      <td>1.0</td>\n",
       "      <td>33.0</td>\n",
       "      <td>NaN</td>\n",
       "      <td>37.0</td>\n",
       "    </tr>\n",
       "    <tr>\n",
       "      <th>379561</th>\n",
       "      <td>NaN</td>\n",
       "      <td>NaN</td>\n",
       "      <td>NaN</td>\n",
       "      <td>NaN</td>\n",
       "      <td>5026201.0</td>\n",
       "      <td>5026200.98</td>\n",
       "      <td>314757.24</td>\n",
       "      <td>55846.677778</td>\n",
       "      <td>NaN</td>\n",
       "      <td>90.0</td>\n",
       "      <td>NaN</td>\n",
       "      <td>NaN</td>\n",
       "    </tr>\n",
       "    <tr>\n",
       "      <th>2258476</th>\n",
       "      <td>NaN</td>\n",
       "      <td>3433359.0</td>\n",
       "      <td>NaN</td>\n",
       "      <td>NaN</td>\n",
       "      <td>50000.0</td>\n",
       "      <td>431710.00</td>\n",
       "      <td>50000.00</td>\n",
       "      <td>NaN</td>\n",
       "      <td>3.0</td>\n",
       "      <td>NaN</td>\n",
       "      <td>330.0</td>\n",
       "      <td>NaN</td>\n",
       "    </tr>\n",
       "    <tr>\n",
       "      <th>945804</th>\n",
       "      <td>NaN</td>\n",
       "      <td>3436077.0</td>\n",
       "      <td>-34.578282</td>\n",
       "      <td>-58.467671</td>\n",
       "      <td>85000.0</td>\n",
       "      <td>585182.50</td>\n",
       "      <td>85000.00</td>\n",
       "      <td>NaN</td>\n",
       "      <td>2.0</td>\n",
       "      <td>NaN</td>\n",
       "      <td>41.0</td>\n",
       "      <td>NaN</td>\n",
       "    </tr>\n",
       "  </tbody>\n",
       "</table>\n",
       "</div>"
      ],
      "text/plain": [
       "         floor  geonames_id        lat        lon      price  \\\n",
       "635885     NaN          NaN        NaN        NaN   108000.0   \n",
       "1403749    NaN    3435359.0 -34.565321 -58.471603    74000.0   \n",
       "379561     NaN          NaN        NaN        NaN  5026201.0   \n",
       "2258476    NaN    3433359.0        NaN        NaN    50000.0   \n",
       "945804     NaN    3436077.0 -34.578282 -58.467671    85000.0   \n",
       "\n",
       "         price_aprox_local_currency  price_aprox_usd  price_per_m2  rooms  \\\n",
       "635885                   1724598.00        108000.00   2250.000000    2.0   \n",
       "1403749                   717851.80         74000.00   2242.424242    1.0   \n",
       "379561                   5026200.98        314757.24  55846.677778    NaN   \n",
       "2258476                   431710.00         50000.00           NaN    3.0   \n",
       "945804                    585182.50         85000.00           NaN    2.0   \n",
       "\n",
       "         surface_covered_in_m2  surface_in_m2  surface_total_in_m2  \n",
       "635885                    48.0            NaN                  NaN  \n",
       "1403749                   33.0            NaN                 37.0  \n",
       "379561                    90.0            NaN                  NaN  \n",
       "2258476                    NaN          330.0                  NaN  \n",
       "945804                     NaN           41.0                  NaN  "
      ]
     },
     "execution_count": 2,
     "metadata": {},
     "output_type": "execute_result"
    }
   ],
   "source": [
    "dtypes = {\n",
    "    'country_name': str,\n",
    "    'expenses': object,\n",
    "    'id': str,\n",
    "    'title': str,\n",
    "    'state_name': str,\n",
    "    'lat': float,\n",
    "    'lon': float\n",
    "}\n",
    "\n",
    "cols = range(6) + range(8, 18) + [20, 21] + range(23, 27)\n",
    "parse_dates = ['created_on']\n",
    "\n",
    "df = pd.read_csv('data_gba_total.csv', dtype=dtypes, usecols=cols, parse_dates=parse_dates)\n",
    "df = df.select_dtypes(['number'])\n",
    "df.sample(5)"
   ]
  },
  {
   "cell_type": "markdown",
   "metadata": {},
   "source": [
    "### Cleanup\n",
    "\n",
    "Cleanup muy malo a mejorar, hay que usar mas columnas, actualmente descarto demasiada informacion para poder tener un dataset limpio usable mas rapido"
   ]
  },
  {
   "cell_type": "code",
   "execution_count": 3,
   "metadata": {},
   "outputs": [],
   "source": [
    "df = df.fillna(value=0)\n",
    "df = df.loc[df['price_aprox_usd'] > 5000]\n",
    "price = df['price_aprox_usd']\n",
    "for column in df.columns:\n",
    "    if 'price' in column:\n",
    "        del df[column]\n",
    "        continue\n",
    "\n",
    "\n",
    "del df['surface_in_m2']  # Existen otras columnas, surface_total_in_m2\n",
    "del df['geonames_id']"
   ]
  },
  {
   "cell_type": "code",
   "execution_count": 8,
   "metadata": {},
   "outputs": [
    {
     "data": {
      "text/plain": [
       "(2085663, 6)"
      ]
     },
     "execution_count": 8,
     "metadata": {},
     "output_type": "execute_result"
    }
   ],
   "source": [
    "df.shape"
   ]
  },
  {
   "cell_type": "code",
   "execution_count": 19,
   "metadata": {},
   "outputs": [],
   "source": [
    "# Parto el dataframe en train y test\n"
   ]
  },
  {
   "cell_type": "markdown",
   "metadata": {},
   "source": [
    "Busco el mejor hiperparametro, haciendo grid search. En el caso de Random Forest el unico hiper parametro es la cantidad de features (columnas) a usar por arbol, entonces itero los valores posibles (de 1 a 6) y me quedo con el que minimice el error."
   ]
  },
  {
   "cell_type": "code",
   "execution_count": 13,
   "metadata": {},
   "outputs": [
    {
     "data": {
      "text/plain": [
       "RandomForestRegressor(bootstrap=True, criterion='mse', max_depth=None,\n",
       "           max_features=1, max_leaf_nodes=None, min_impurity_decrease=0.0,\n",
       "           min_impurity_split=None, min_samples_leaf=1,\n",
       "           min_samples_split=2, min_weight_fraction_leaf=0.0,\n",
       "           n_estimators=10, n_jobs=1, oob_score=False, random_state=None,\n",
       "           verbose=0, warm_start=False)"
      ]
     },
     "execution_count": 13,
     "metadata": {},
     "output_type": "execute_result"
    }
   ],
   "source": [
    "param_grid = {'max_features': range(1, 7)}\n",
    "\n",
    "r = RandomForestRegressor()\n",
    "grid = GridSearchCV(r, param_grid)\n",
    "grid.fit(x_train, y_train)\n",
    "grid.best_estimator_"
   ]
  },
  {
   "cell_type": "markdown",
   "metadata": {},
   "source": [
    "Score del mejor parametro."
   ]
  },
  {
   "cell_type": "code",
   "execution_count": 14,
   "metadata": {
    "scrolled": true
   },
   "outputs": [
    {
     "data": {
      "text/plain": [
       "0.66783776197159994"
      ]
     },
     "execution_count": 14,
     "metadata": {},
     "output_type": "execute_result"
    }
   ],
   "source": [
    "grid.best_score_"
   ]
  },
  {
   "cell_type": "markdown",
   "metadata": {},
   "source": [
    "Aca pruebo el mejor estimador encontrado por el grid search (el que usa los mejores hiperparametros encontrados) unas cuantas veces con sets random a ver cuanto da el error promedio"
   ]
  },
  {
   "cell_type": "code",
   "execution_count": 20,
   "metadata": {},
   "outputs": [],
   "source": [
    "errors = []\n",
    "estimator = grid.best_estimator_\n",
    "for i in range(10):\n",
    "    x_train, x_test, y_train, y_test = train_test_split(df, price)\n",
    "    estimator.fit(x_train, y_train)\n",
    "    result = estimator.predict(x_test)\n",
    "    errors.append(mean_squared_error(y_test, result))\n"
   ]
  },
  {
   "cell_type": "code",
   "execution_count": 22,
   "metadata": {},
   "outputs": [
    {
     "data": {
      "text/plain": [
       "36205641230.160675"
      ]
     },
     "execution_count": 22,
     "metadata": {},
     "output_type": "execute_result"
    }
   ],
   "source": [
    "#ERROR PROMEDIO\n",
    "reduce(lambda x, y: x+y, errors) / len(errors)"
   ]
  },
  {
   "cell_type": "code",
   "execution_count": 27,
   "metadata": {},
   "outputs": [
    {
     "data": {
      "text/html": [
       "<div>\n",
       "<style>\n",
       "    .dataframe thead tr:only-child th {\n",
       "        text-align: right;\n",
       "    }\n",
       "\n",
       "    .dataframe thead th {\n",
       "        text-align: left;\n",
       "    }\n",
       "\n",
       "    .dataframe tbody tr th {\n",
       "        vertical-align: top;\n",
       "    }\n",
       "</style>\n",
       "<table border=\"1\" class=\"dataframe\">\n",
       "  <thead>\n",
       "    <tr style=\"text-align: right;\">\n",
       "      <th></th>\n",
       "      <th>0</th>\n",
       "    </tr>\n",
       "  </thead>\n",
       "  <tbody>\n",
       "    <tr>\n",
       "      <th>count</th>\n",
       "      <td>1.000000e+01</td>\n",
       "    </tr>\n",
       "    <tr>\n",
       "      <th>mean</th>\n",
       "      <td>3.620564e+10</td>\n",
       "    </tr>\n",
       "    <tr>\n",
       "      <th>std</th>\n",
       "      <td>1.885328e+09</td>\n",
       "    </tr>\n",
       "    <tr>\n",
       "      <th>min</th>\n",
       "      <td>3.280291e+10</td>\n",
       "    </tr>\n",
       "    <tr>\n",
       "      <th>25%</th>\n",
       "      <td>3.474570e+10</td>\n",
       "    </tr>\n",
       "    <tr>\n",
       "      <th>50%</th>\n",
       "      <td>3.649749e+10</td>\n",
       "    </tr>\n",
       "    <tr>\n",
       "      <th>75%</th>\n",
       "      <td>3.765098e+10</td>\n",
       "    </tr>\n",
       "    <tr>\n",
       "      <th>max</th>\n",
       "      <td>3.889870e+10</td>\n",
       "    </tr>\n",
       "  </tbody>\n",
       "</table>\n",
       "</div>"
      ],
      "text/plain": [
       "                  0\n",
       "count  1.000000e+01\n",
       "mean   3.620564e+10\n",
       "std    1.885328e+09\n",
       "min    3.280291e+10\n",
       "25%    3.474570e+10\n",
       "50%    3.649749e+10\n",
       "75%    3.765098e+10\n",
       "max    3.889870e+10"
      ]
     },
     "execution_count": 27,
     "metadata": {},
     "output_type": "execute_result"
    }
   ],
   "source": [
    "pd.DataFrame(errors).describe()"
   ]
  },
  {
   "cell_type": "code",
   "execution_count": null,
   "metadata": {},
   "outputs": [],
   "source": []
  }
 ],
 "metadata": {
  "kernelspec": {
   "display_name": "Python 2",
   "language": "python",
   "name": "python2"
  },
  "language_info": {
   "codemirror_mode": {
    "name": "ipython",
    "version": 2
   },
   "file_extension": ".py",
   "mimetype": "text/x-python",
   "name": "python",
   "nbconvert_exporter": "python",
   "pygments_lexer": "ipython2",
   "version": "2.7.12"
  }
 },
 "nbformat": 4,
 "nbformat_minor": 2
}
