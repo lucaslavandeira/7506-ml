{
 "cells": [
  {
   "cell_type": "markdown",
   "metadata": {},
   "source": [
    "## Previo\n",
    "- Agarrar los datos del tp anterior\n",
    "- Bajarse el dataset de testing de Kaggle (no usado actualmente)"
   ]
  },
  {
   "cell_type": "code",
   "execution_count": 5,
   "metadata": {},
   "outputs": [],
   "source": [
    "import pandas as pd\n",
    "from sklearn.ensemble import RandomForestRegressor\n",
    "from sklearn.model_selection import train_test_split"
   ]
  },
  {
   "cell_type": "markdown",
   "metadata": {},
   "source": [
    "## Inicializo el DF"
   ]
  },
  {
   "cell_type": "code",
   "execution_count": 4,
   "metadata": {},
   "outputs": [
    {
     "data": {
      "text/html": [
       "<div>\n",
       "<style>\n",
       "    .dataframe thead tr:only-child th {\n",
       "        text-align: right;\n",
       "    }\n",
       "\n",
       "    .dataframe thead th {\n",
       "        text-align: left;\n",
       "    }\n",
       "\n",
       "    .dataframe tbody tr th {\n",
       "        vertical-align: top;\n",
       "    }\n",
       "</style>\n",
       "<table border=\"1\" class=\"dataframe\">\n",
       "  <thead>\n",
       "    <tr style=\"text-align: right;\">\n",
       "      <th></th>\n",
       "      <th>floor</th>\n",
       "      <th>geonames_id</th>\n",
       "      <th>lat</th>\n",
       "      <th>lon</th>\n",
       "      <th>price</th>\n",
       "      <th>price_aprox_local_currency</th>\n",
       "      <th>price_aprox_usd</th>\n",
       "      <th>price_per_m2</th>\n",
       "      <th>rooms</th>\n",
       "      <th>surface_covered_in_m2</th>\n",
       "      <th>surface_in_m2</th>\n",
       "      <th>surface_total_in_m2</th>\n",
       "    </tr>\n",
       "  </thead>\n",
       "  <tbody>\n",
       "    <tr>\n",
       "      <th>196585</th>\n",
       "      <td>NaN</td>\n",
       "      <td>3436134.0</td>\n",
       "      <td>-34.641094</td>\n",
       "      <td>-58.377395</td>\n",
       "      <td>92000.0</td>\n",
       "      <td>1469102.00</td>\n",
       "      <td>92000.0</td>\n",
       "      <td>1642.857143</td>\n",
       "      <td>3.0</td>\n",
       "      <td>56.0</td>\n",
       "      <td>NaN</td>\n",
       "      <td>66.0</td>\n",
       "    </tr>\n",
       "    <tr>\n",
       "      <th>1281206</th>\n",
       "      <td>NaN</td>\n",
       "      <td>3430234.0</td>\n",
       "      <td>-34.584782</td>\n",
       "      <td>-58.416664</td>\n",
       "      <td>NaN</td>\n",
       "      <td>NaN</td>\n",
       "      <td>NaN</td>\n",
       "      <td>NaN</td>\n",
       "      <td>4.0</td>\n",
       "      <td>NaN</td>\n",
       "      <td>NaN</td>\n",
       "      <td>NaN</td>\n",
       "    </tr>\n",
       "    <tr>\n",
       "      <th>846797</th>\n",
       "      <td>10.0</td>\n",
       "      <td>NaN</td>\n",
       "      <td>-34.605372</td>\n",
       "      <td>-58.386505</td>\n",
       "      <td>156000.0</td>\n",
       "      <td>898281.17</td>\n",
       "      <td>156000.0</td>\n",
       "      <td>NaN</td>\n",
       "      <td>3.0</td>\n",
       "      <td>NaN</td>\n",
       "      <td>55.0</td>\n",
       "      <td>NaN</td>\n",
       "    </tr>\n",
       "    <tr>\n",
       "      <th>347087</th>\n",
       "      <td>NaN</td>\n",
       "      <td>NaN</td>\n",
       "      <td>-34.409530</td>\n",
       "      <td>-58.614391</td>\n",
       "      <td>386000.0</td>\n",
       "      <td>6163841.00</td>\n",
       "      <td>386000.0</td>\n",
       "      <td>3574.074074</td>\n",
       "      <td>3.0</td>\n",
       "      <td>108.0</td>\n",
       "      <td>NaN</td>\n",
       "      <td>108.0</td>\n",
       "    </tr>\n",
       "    <tr>\n",
       "      <th>2303658</th>\n",
       "      <td>2.0</td>\n",
       "      <td>3862356.0</td>\n",
       "      <td>NaN</td>\n",
       "      <td>NaN</td>\n",
       "      <td>71500.0</td>\n",
       "      <td>645973.90</td>\n",
       "      <td>71500.0</td>\n",
       "      <td>NaN</td>\n",
       "      <td>2.0</td>\n",
       "      <td>NaN</td>\n",
       "      <td>40.0</td>\n",
       "      <td>NaN</td>\n",
       "    </tr>\n",
       "  </tbody>\n",
       "</table>\n",
       "</div>"
      ],
      "text/plain": [
       "         floor  geonames_id        lat        lon     price  \\\n",
       "196585     NaN    3436134.0 -34.641094 -58.377395   92000.0   \n",
       "1281206    NaN    3430234.0 -34.584782 -58.416664       NaN   \n",
       "846797    10.0          NaN -34.605372 -58.386505  156000.0   \n",
       "347087     NaN          NaN -34.409530 -58.614391  386000.0   \n",
       "2303658    2.0    3862356.0        NaN        NaN   71500.0   \n",
       "\n",
       "         price_aprox_local_currency  price_aprox_usd  price_per_m2  rooms  \\\n",
       "196585                   1469102.00          92000.0   1642.857143    3.0   \n",
       "1281206                         NaN              NaN           NaN    4.0   \n",
       "846797                    898281.17         156000.0           NaN    3.0   \n",
       "347087                   6163841.00         386000.0   3574.074074    3.0   \n",
       "2303658                   645973.90          71500.0           NaN    2.0   \n",
       "\n",
       "         surface_covered_in_m2  surface_in_m2  surface_total_in_m2  \n",
       "196585                    56.0            NaN                 66.0  \n",
       "1281206                    NaN            NaN                  NaN  \n",
       "846797                     NaN           55.0                  NaN  \n",
       "347087                   108.0            NaN                108.0  \n",
       "2303658                    NaN           40.0                  NaN  "
      ]
     },
     "execution_count": 4,
     "metadata": {},
     "output_type": "execute_result"
    }
   ],
   "source": [
    "dtypes = {\n",
    "    'country_name': str,\n",
    "    'expenses': object,\n",
    "    'id': str,\n",
    "    'title': str,\n",
    "    'state_name': str,\n",
    "    'lat': float,\n",
    "    'lon': float\n",
    "}\n",
    "\n",
    "cols = range(6) + range(8, 18) + [20, 21] + range(23, 27)\n",
    "parse_dates = ['created_on']\n",
    "\n",
    "df = pd.read_csv('data_gba_total.csv', dtype=dtypes, usecols=cols, parse_dates=parse_dates)\n",
    "df = df.select_dtypes(['number'])\n",
    "df.sample(5)"
   ]
  },
  {
   "cell_type": "markdown",
   "metadata": {},
   "source": [
    "### Cleanup\n",
    "\n",
    "Cleanup muy malo a mejorar, hay que usar mas columnas, actualmente descarto demasiada informacion para poder tener un dataset limpio usable mas rapido"
   ]
  },
  {
   "cell_type": "code",
   "execution_count": 7,
   "metadata": {},
   "outputs": [],
   "source": [
    "df = df.fillna(value=0)\n",
    "df = df.loc[df['price_aprox_usd'] > 5000]\n",
    "price = df['price_aprox_usd']\n",
    "for column in df.columns:\n",
    "    if 'price' in column:\n",
    "        del df[column]\n",
    "        continue\n",
    "\n",
    "\n",
    "del df['surface_in_m2']  # Existen otras columnas, surface_total_in_m2\n",
    "del df['geonames_id']"
   ]
  },
  {
   "cell_type": "code",
   "execution_count": 8,
   "metadata": {},
   "outputs": [
    {
     "data": {
      "text/plain": [
       "(2085663, 6)"
      ]
     },
     "execution_count": 8,
     "metadata": {},
     "output_type": "execute_result"
    }
   ],
   "source": [
    "df.shape"
   ]
  },
  {
   "cell_type": "code",
   "execution_count": 9,
   "metadata": {},
   "outputs": [],
   "source": [
    "# Parto el dataframe en train y test\n",
    "x_train, x_test, y_train, y_test = train_test_split(df, price)"
   ]
  },
  {
   "cell_type": "markdown",
   "metadata": {},
   "source": [
    "Busco el mejor hiperparametro, haciendo grid search. En el caso de Random Forest el unico hiper parametro es la cantidad de features (columnas) a usar por arbol, entonces itero los valores posibles (de 1 a 6) y me quedo con el que minimice el error."
   ]
  },
  {
   "cell_type": "code",
   "execution_count": 34,
   "metadata": {},
   "outputs": [
    {
     "data": {
      "text/plain": [
       "2"
      ]
     },
     "execution_count": 34,
     "metadata": {},
     "output_type": "execute_result"
    }
   ],
   "source": [
    "features = len(df.columns)\n",
    "\n",
    "best = -1\n",
    "best_error = 99999999999999999999999999\n",
    "for i in range(1, features):\n",
    "\n",
    "    regressor = RandomForestRegressor(max_features=i)\n",
    "    regressor.fit(x_train, y_train)\n",
    "    result = regressor.predict(x_test)\n",
    "    error = mean_squared_error(result, y_test)\n",
    "    if error < best_error:\n",
    "        best = i\n",
    "        best_error = error\n",
    "\n",
    "best"
   ]
  },
  {
   "cell_type": "code",
   "execution_count": 37,
   "metadata": {},
   "outputs": [
    {
     "data": {
      "text/plain": [
       "45684972498.908867"
      ]
     },
     "execution_count": 37,
     "metadata": {},
     "output_type": "execute_result"
    }
   ],
   "source": [
    "error  # Esperado: 11 cifras, parece ser normal y esperado (por el momento)"
   ]
  }
 ],
 "metadata": {
  "kernelspec": {
   "display_name": "Python 2",
   "language": "python",
   "name": "python2"
  },
  "language_info": {
   "codemirror_mode": {
    "name": "ipython",
    "version": 2
   },
   "file_extension": ".py",
   "mimetype": "text/x-python",
   "name": "python",
   "nbconvert_exporter": "python",
   "pygments_lexer": "ipython2",
   "version": "2.7.12"
  }
 },
 "nbformat": 4,
 "nbformat_minor": 2
}
